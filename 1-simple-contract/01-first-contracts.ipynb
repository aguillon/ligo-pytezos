{
 "cells": [
  {
   "cell_type": "markdown",
   "id": "1cce5da2",
   "metadata": {},
   "source": [
    "# First LIGO contracts on a local network"
   ]
  },
  {
   "cell_type": "markdown",
   "id": "f8b39d4d",
   "metadata": {},
   "source": [
    "## Setup"
   ]
  },
  {
   "cell_type": "code",
   "execution_count": 1,
   "id": "71a1a024",
   "metadata": {},
   "outputs": [],
   "source": [
    "import pytezos as tz"
   ]
  },
  {
   "cell_type": "markdown",
   "id": "a7581113",
   "metadata": {},
   "source": [
    "In this notebook, we're going to use a local Tezos network, using the Flextesa sandbox. To do so, we use the following `docker-compose.yml` file:"
   ]
  },
  {
   "cell_type": "code",
   "execution_count": 2,
   "id": "8fd2e27d",
   "metadata": {},
   "outputs": [
    {
     "name": "stdout",
     "output_type": "stream",
     "text": [
      "version: \"3.6\"\r\n",
      "services:\r\n",
      "  flextesa:\r\n",
      "    container_name: my_flextesa\r\n",
      "    restart: always\r\n",
      "    image: oxheadalpha/flextesa:20230607\r\n",
      "    command: nairobibox start\r\n",
      "    environment:\r\n",
      "      - block_time=4\r\n",
      "      - flextesa_node_cors_origin=*\r\n",
      "    ports:\r\n",
      "      - 127.0.0.1:20000:20000\r\n",
      "    expose:\r\n",
      "      - 20000/tcp\r\n"
     ]
    }
   ],
   "source": [
    "!cat docker-compose.yml"
   ]
  },
  {
   "cell_type": "markdown",
   "id": "230422fb",
   "metadata": {},
   "source": [
    "Several [test networks are available for Tezos](https://tezos.gitlab.io/introduction/test_networks.html). A permanent one, called Ghostnet, is also used to deploy new releases of Tezos one week before deploying them on Mainnet. In later notebooks, we'll see how to use it."
   ]
  },
  {
   "cell_type": "markdown",
   "id": "487c0021",
   "metadata": {},
   "source": [
    "For now, let's just use our local Flextesa instance. You can boot Flextesa by running `docker compose up -d` in your terminal."
   ]
  },
  {
   "cell_type": "markdown",
   "id": "0a3120d3",
   "metadata": {},
   "source": [
    "## Communicating with the chain"
   ]
  },
  {
   "cell_type": "code",
   "execution_count": 3,
   "id": "49253c1c",
   "metadata": {},
   "outputs": [],
   "source": [
    "TEZOS_RPC=\"http://localhost:20000\""
   ]
  },
  {
   "cell_type": "markdown",
   "id": "244c9901",
   "metadata": {},
   "source": [
    " It is available on port 20000, and has a predefined account with a large amount of tez available for testing purpose. This account's address finishes by `jcjb` and is well-known among Tezos developers, who have the habit of calling it \"alice\"."
   ]
  },
  {
   "cell_type": "code",
   "execution_count": 4,
   "id": "4dc68a0e",
   "metadata": {},
   "outputs": [],
   "source": [
    "import pytezos as tz\n",
    "import time\n",
    "\n",
    "alice = tz.Key.from_encoded_key(\"edsk3QoqBuvdamxouPhin7swCvkQNgq4jP5KZPbwWNnwdZpSpJiEbq\")"
   ]
  },
  {
   "cell_type": "code",
   "execution_count": 5,
   "id": "5ea0dee4",
   "metadata": {},
   "outputs": [
    {
     "data": {
      "text/plain": [
       "'tz1VSUr8wwNhLAzempoch5d6hLRiTh8Cjcjb'"
      ]
     },
     "execution_count": 5,
     "metadata": {},
     "output_type": "execute_result"
    }
   ],
   "source": [
    "alice.public_key_hash()"
   ]
  },
  {
   "cell_type": "markdown",
   "id": "d1841834",
   "metadata": {},
   "source": [
    "PyTezosClient instances are connections to a given network, to which they can make request. They can also have a key, which makes it easy to query information about a given account and to make transactions. Let's create a connection to our local network and query Alice's balance."
   ]
  },
  {
   "cell_type": "code",
   "execution_count": 6,
   "id": "7272c8cd",
   "metadata": {},
   "outputs": [
    {
     "data": {
      "text/plain": [
       "Decimal('1999999.684358')"
      ]
     },
     "execution_count": 6,
     "metadata": {},
     "output_type": "execute_result"
    }
   ],
   "source": [
    "ptz = tz.pytezos.using(TEZOS_RPC, alice)\n",
    "ptz.balance()"
   ]
  },
  {
   "cell_type": "markdown",
   "id": "66949d9c",
   "metadata": {},
   "source": [
    "For security and determinism reasons, Tezos native numbers are integers only (naturals and integers), no floating-poing numbers. Currencies (tez and tokens alike) are expected to have a known precision; for tez, this precision is $10^{-6}$.\n",
    "\n",
    "Thus, to represent 1.5tez, one can write 1500000mutez. Within PyTezos, the type `int` is used to represent a quantity of mutez, but `Decimal` is also available and more convenient. Here, Alice has 2M tez (the actual quantity may vary a bit).\n",
    "\n",
    "Here's an example of transaction sending `1e6`mutez (= 1tez):"
   ]
  },
  {
   "cell_type": "code",
   "execution_count": 7,
   "id": "63d41bed",
   "metadata": {},
   "outputs": [
    {
     "data": {
      "text/plain": [
       "{'chain_id': 'NetXNQiqPWDBoxN',\n",
       " 'hash': 'ooU1mqnzcgLeUQLPANCCPVvgmDYezJ8NRCTDnPCPuDkvWi8neqx',\n",
       " 'protocol': 'PtNairobiyssHuh87hEhfVBGCVrK3WnS8Z2FT4ymB5tAa4r1nQf',\n",
       " 'branch': 'BM5RrVG3UcNzXTtFZxmzwYqGrruegSFEbCykwV2XeqSUfvLRm8M',\n",
       " 'contents': [{'kind': 'transaction',\n",
       "   'source': 'tz1VSUr8wwNhLAzempoch5d6hLRiTh8Cjcjb',\n",
       "   'fee': '287',\n",
       "   'counter': '13',\n",
       "   'gas_limit': '269',\n",
       "   'storage_limit': '357',\n",
       "   'amount': '1000000',\n",
       "   'destination': 'tz1L7zaWD1aRYBTQvSdxEdc9KDzfwG4DydDu'}],\n",
       " 'signature': 'sigmMewC4SkkE56FwLv26nSsffmtYjju4pb2fxztLzYXhyeSg5XtWG4v8QtyMvqzTFAXgxw53AEFH5cN2VDWRed3zwgH6Z5f'}"
      ]
     },
     "execution_count": 7,
     "metadata": {},
     "output_type": "execute_result"
    }
   ],
   "source": [
    "ptz.transaction(\n",
    "    destination=\"tz1L7zaWD1aRYBTQvSdxEdc9KDzfwG4DydDu\",\n",
    "    amount=int(1e6)\n",
    ").autofill().sign().inject()"
   ]
  },
  {
   "cell_type": "markdown",
   "id": "94085e8d",
   "metadata": {},
   "source": [
    "This Python code does not wait for the transaction's inclusion, and returns immediately. The return `dict` contains various information about the transaction, including it's hash and signature. Try to send it a few times, and then look how it changed Alice's balance."
   ]
  },
  {
   "cell_type": "markdown",
   "id": "edb86ae5",
   "metadata": {},
   "source": [
    "To wait for inclusion, add the `min_confirmations=1` parameter."
   ]
  },
  {
   "cell_type": "code",
   "execution_count": 9,
   "id": "17ee3521",
   "metadata": {},
   "outputs": [
    {
     "data": {
      "text/plain": [
       "{'protocol': 'PtNairobiyssHuh87hEhfVBGCVrK3WnS8Z2FT4ymB5tAa4r1nQf',\n",
       " 'chain_id': 'NetXNQiqPWDBoxN',\n",
       " 'hash': 'oohhGDETdroLqLJTsP7gqudVpXTGVSiSjS9DPSkGHY796yYTPQs',\n",
       " 'branch': 'BMVw8DBnkn6kP4LAWEsx3xTm5t1fV1Wt8t3RRzen9tgnax7goDb',\n",
       " 'contents': [{'kind': 'transaction',\n",
       "   'source': 'tz1VSUr8wwNhLAzempoch5d6hLRiTh8Cjcjb',\n",
       "   'fee': '286',\n",
       "   'counter': '14',\n",
       "   'gas_limit': '269',\n",
       "   'storage_limit': '100',\n",
       "   'amount': '1000000',\n",
       "   'destination': 'tz1L7zaWD1aRYBTQvSdxEdc9KDzfwG4DydDu',\n",
       "   'metadata': {'balance_updates': [{'kind': 'contract',\n",
       "      'contract': 'tz1VSUr8wwNhLAzempoch5d6hLRiTh8Cjcjb',\n",
       "      'change': '-286',\n",
       "      'origin': 'block'},\n",
       "     {'kind': 'accumulator',\n",
       "      'category': 'block fees',\n",
       "      'change': '286',\n",
       "      'origin': 'block'}],\n",
       "    'operation_result': {'status': 'applied',\n",
       "     'balance_updates': [{'kind': 'contract',\n",
       "       'contract': 'tz1VSUr8wwNhLAzempoch5d6hLRiTh8Cjcjb',\n",
       "       'change': '-1000000',\n",
       "       'origin': 'block'},\n",
       "      {'kind': 'contract',\n",
       "       'contract': 'tz1L7zaWD1aRYBTQvSdxEdc9KDzfwG4DydDu',\n",
       "       'change': '1000000',\n",
       "       'origin': 'block'}],\n",
       "     'consumed_milligas': '168688'}}}],\n",
       " 'signature': 'sigpVQ8wfumvhUVSeHhbCdALWQKVfWmrZ8jiFDyuMwfDUx2vx3h9pkh6tRDrd4TXLRNY41Hh5CvocvHvbuwxyE2mWFWkZU5r'}"
      ]
     },
     "execution_count": 9,
     "metadata": {},
     "output_type": "execute_result"
    }
   ],
   "source": [
    "ptz.transaction(\n",
    "    destination=\"tz1L7zaWD1aRYBTQvSdxEdc9KDzfwG4DydDu\",\n",
    "    amount=int(1e6)\n",
    ").autofill().sign().inject(min_confirmations=1)"
   ]
  },
  {
   "cell_type": "markdown",
   "id": "b5d5da37",
   "metadata": {},
   "source": [
    "Just as the `octez-client` command line client, PyTezos provides an interface to the RPC node, which in turns relies our transactions to the Tezos network. RPC paths such as `rpc_address/a/b/c` are translated by chained Python calls, such as `ptz.a.b.c()`. For instance, you can get all the contracts known by a RPC by doing:"
   ]
  },
  {
   "cell_type": "code",
   "execution_count": 10,
   "id": "073762a4",
   "metadata": {},
   "outputs": [
    {
     "data": {
      "text/plain": [
       "['KT1VqarPDicMFn1ejmQqqshUkUXTCTXwmkCN',\n",
       " 'KT1TxqZ8QtKvLu3V3JH7Gx58n7Co8pgtpQU5',\n",
       " 'KT1TetEit2fWULZMtu4GMLXfxuWY8qDf9pnU',\n",
       " 'KT1REvYuUpuKuiBbExk1JFQjSp3taN4S14r2',\n",
       " 'KT1CQT2h8tdHajt7CY6GDYhjwV6jZvSFwXUR',\n",
       " 'KT1C49Dx86roc1mY4zXh6GNaP9T8Qk8Rw9ft',\n",
       " 'KT1AafHA1C1vk959wvHWBispY9Y2f3fxBUUo',\n",
       " 'tz1aYQcaXmowUu59gAgMGdiX6ARR7gdmikZk',\n",
       " 'tz1aSkwEot3L2kmUvcoxzjMomb9mvBNuzFK6',\n",
       " 'tz1YPSCGWXwBdTncK2aCctSZAXWvGsGwVJqU',\n",
       " 'tz1VSUr8wwNhLAzempoch5d6hLRiTh8Cjcjb',\n",
       " 'tz1SEQPRfF2JKz7XFF3rN2smFkmeAmws51nQ',\n",
       " 'tz1L7zaWD1aRYBTQvSdxEdc9KDzfwG4DydDu']"
      ]
     },
     "execution_count": 10,
     "metadata": {},
     "output_type": "execute_result"
    }
   ],
   "source": [
    "ptz.shell.contracts()"
   ]
  },
  {
   "cell_type": "markdown",
   "id": "b85a08ae",
   "metadata": {},
   "source": [
    "And here is how you can provide arguments to a RPC call:"
   ]
  },
  {
   "cell_type": "code",
   "execution_count": 11,
   "id": "a597d5c3",
   "metadata": {},
   "outputs": [
    {
     "data": {
      "text/plain": [
       "{'balance': '2000000', 'counter': '13'}"
      ]
     },
     "execution_count": 11,
     "metadata": {},
     "output_type": "execute_result"
    }
   ],
   "source": [
    "ptz.shell.contracts[\"tz1L7zaWD1aRYBTQvSdxEdc9KDzfwG4DydDu\"]()"
   ]
  },
  {
   "cell_type": "markdown",
   "id": "ce3036ee",
   "metadata": {},
   "source": [
    "Note: the word \"contract\" is used a bit loosely. Tezos differentiates between\n",
    "* implicit accounts, which addresses start with `tz`, and which are defined by a secret key. They also can sign transactions.\n",
    "* originated accounts, which addresses start with `KT`, and which we will call \"smart contracts\" most of the time."
   ]
  },
  {
   "cell_type": "markdown",
   "id": "5bb69067",
   "metadata": {},
   "source": [
    "# Deploying a smart contract"
   ]
  },
  {
   "cell_type": "markdown",
   "id": "4759aa24",
   "metadata": {},
   "source": [
    "In this section we're going to write our first smart contract using the LIGO language, and originate it on our local network. If you're not interested in learning LIGO, you can skip the first section safely."
   ]
  },
  {
   "cell_type": "markdown",
   "id": "ec3f08c7",
   "metadata": {},
   "source": [
    "## First smart contract"
   ]
  },
  {
   "cell_type": "markdown",
   "id": "780dcebd",
   "metadata": {},
   "source": [
    "We're going to write and compile our smart contract directly from this notebook."
   ]
  },
  {
   "cell_type": "code",
   "execution_count": 12,
   "id": "1297895e",
   "metadata": {},
   "outputs": [
    {
     "name": "stdout",
     "output_type": "stream",
     "text": [
      "Overwriting first-contract.mligo\n"
     ]
    }
   ],
   "source": [
    "%%writefile first-contract.mligo\n",
    "\n",
    "type storage = unit\n",
    "\n",
    "[@entry]\n",
    "let main (_ : unit) (store : storage) : operation list * storage =\n",
    "    ([], store)"
   ]
  },
  {
   "cell_type": "markdown",
   "id": "99d1ec62",
   "metadata": {},
   "source": [
    "This may look a bit complicated, and yet this is this the simplest contract you can write in LIGO. Here's what it does:\n",
    "\n",
    "First, it defines a type named `storage` as a synonym to the `unit` type. `unit` is the simplest type available in LIGO and Michelson: it only contains only one value, written `()` in the Cameligo syntax. You can think of it as a tuple with no elements (a tuple of length 0).\n",
    "\n",
    "Then, it defines a single entrypoint named `main`, which takes two arguments: one of type `unit`, and one of type `storage`. It also returns a couple of types, `operation list` and `storage`. Note that tuples _types_ are defined with a `*`, which should remind you of the mathematical notation for the Cartesian product between sets. When you write `type_1 * type_2` in Cameligo, you're really writing \"the type which contains elements which are pairs of `type_1` and `type_2`\"."
   ]
  },
  {
   "cell_type": "markdown",
   "id": "95b9a926",
   "metadata": {},
   "source": [
    "In LIGO, all entrypoints have to\n",
    "- take, as a first argument, the data that the entrypoint requires;\n",
    "- take, as second argument, the contract's storage: in this variable (called `store` here), the entrypoint receives the value of the contract's storage when the entrypoint is called. If anything is read from the storage, it has to be explicitely read from this variable;\n",
    "- return a couple containing the list of operations that the contract generates (such as transfers or calls to other smart contracts — or itself!), and the new value of the storage. Again, if anything is written in the storage, this has to be explicitely returned here."
   ]
  },
  {
   "cell_type": "markdown",
   "id": "848b31b0",
   "metadata": {},
   "source": [
    "For our first contract, we don't want our entrypoint to do anything, hence it does not need any particular data as first argument. The `unit` type does just fine! To match the type requirements for the entrypoint's return, we return a couple, made of the empty list and the store as we found it.\n",
    "\n",
    "To compile the contract, let's call the LIGO compiler:"
   ]
  },
  {
   "cell_type": "code",
   "execution_count": 13,
   "id": "04120f12",
   "metadata": {},
   "outputs": [
    {
     "name": "stdout",
     "output_type": "stream",
     "text": [
      "{ parameter unit ; storage unit ; code { CDR ; NIL operation ; PAIR } }\r\n",
      "\r\n"
     ]
    }
   ],
   "source": [
    "! ligo compile contract first-contract.mligo"
   ]
  },
  {
   "cell_type": "markdown",
   "id": "324094e8",
   "metadata": {},
   "source": [
    "With such a small example, the Michelson code is almost easier to read than the original LIGO code. As you can see, it defines a contract which expects a `unit` parameter and has a `unit` storage.\n",
    "\n",
    "Michelson is a stack-based language: its instructions handle the data on a stack, where they push, pop or duplicate values. When a call to this smart contract is executed, Tezos starts by putting the parameter and the storage on the stack, as a couple. Then the code does the following:\n",
    "* `CDR` takes the second part of the couple (which is `()`, the unit value);\n",
    "* `NIL operation` pushes an empty list of type `operation` on the stack;\n",
    "* `PAIR` builds the tuple with this list and the unit value, the latter being the final value for our storage.\n",
    "\n",
    "You don't have to understand Michelson to write smart contracts on Tezos. However, the simplicity of this example gives us the opportunity to take a look and understand how it works."
   ]
  },
  {
   "cell_type": "markdown",
   "id": "ca9a06e5",
   "metadata": {},
   "source": [
    "Let's write this contract to a file, and read it back from Python to originate it."
   ]
  },
  {
   "cell_type": "code",
   "execution_count": 14,
   "id": "236c7a18",
   "metadata": {},
   "outputs": [],
   "source": [
    "! ligo compile contract first-contract.mligo > first-contract.tz"
   ]
  },
  {
   "cell_type": "markdown",
   "id": "212935e4",
   "metadata": {},
   "source": [
    "## Originating our first contract"
   ]
  },
  {
   "cell_type": "markdown",
   "id": "384bf49a",
   "metadata": {},
   "source": [
    "We'll need the following class to read the contract:"
   ]
  },
  {
   "cell_type": "code",
   "execution_count": 15,
   "id": "aa559c2d",
   "metadata": {},
   "outputs": [],
   "source": [
    "from pytezos import ContractInterface"
   ]
  },
  {
   "cell_type": "markdown",
   "id": "c89854e8",
   "metadata": {},
   "source": [
    "PyTezos leverages Python's documentation strings to provide information about the arguments of the methods, contract calls, etc. that you may want to use.\n",
    "\n",
    "To deploy a contract, use the `origination` method:"
   ]
  },
  {
   "cell_type": "code",
   "execution_count": 16,
   "id": "66832b8c",
   "metadata": {},
   "outputs": [
    {
     "data": {
      "text/plain": [
       "<function ContentMixin.origination at 0x7f11da64fb00>\n",
       "Deploy smart contract (scriptless KT accounts are not used for delegation since Babylon).\n",
       "\n",
       ":param script: {\"code\": $Micheline, \"storage\": $Micheline}\n",
       ":param balance: Amount transferred on the balance, WARNING: there is no default way to withdraw funds.\n",
       "More info: https://tezos.stackexchange.com/questions/1315/can-i-withdraw-funds-from-an-empty-smart-contract\n",
       ":param delegate: Set contract delegate, default None\n",
       ":param source: Address from which funds will be sent, leave None to use signatory address\n",
       ":param counter: Current account counter, leave None for autocomplete\n",
       ":param fee: Leave None for autocomplete\n",
       ":param gas_limit: Leave None for autocomplete\n",
       ":param storage_limit: Leave None for autocomplete\n",
       ":returns: dict or OperationGroup"
      ]
     },
     "execution_count": 16,
     "metadata": {},
     "output_type": "execute_result"
    }
   ],
   "source": [
    "ptz.origination"
   ]
  },
  {
   "cell_type": "markdown",
   "id": "489914cb",
   "metadata": {},
   "source": [
    "That's a lot of parameters! However, not all of them are required. The most important one is the `script` of the contract, which is its code and original storage value. Let's load the file `first-contract.tz` and originate it."
   ]
  },
  {
   "cell_type": "code",
   "execution_count": 17,
   "id": "281eea91",
   "metadata": {},
   "outputs": [],
   "source": [
    "first_contract = ContractInterface.from_file(\"first-contract.tz\")"
   ]
  },
  {
   "cell_type": "markdown",
   "id": "63b18eb5",
   "metadata": {},
   "source": [
    "Here again, the generated docuemntation is really helpful. Our contract's entrypoint is even listed. Note that its name was changed: when a LIGO contract with only one entrypoint is compiled, its name does not appear in the resulting contract. PyTezos uses the name `default` for this."
   ]
  },
  {
   "cell_type": "code",
   "execution_count": 18,
   "id": "48f11a92",
   "metadata": {},
   "outputs": [
    {
     "data": {
      "text/plain": [
       "<pytezos.jupyter.ContractInterface object at 0x7f11da345650>\n",
       "\n",
       "Properties\n",
       ".block_id\thead\n",
       ".storage\t# access storage data at block `block_id`\n",
       ".parameter\t# root entrypoint\n",
       "\n",
       "Entrypoints\n",
       ".default()\n",
       "\n",
       "Views\n",
       "\n",
       "Helpers\n",
       ".big_map_get()\n",
       ".create_from()\n",
       ".from_context()\n",
       ".from_file()\n",
       ".from_micheline()\n",
       ".from_michelson()\n",
       ".from_url()\n",
       ".metadata()\n",
       ".metadata_url()\n",
       ".operation_result()\n",
       ".originate()\n",
       ".program()\n",
       ".script()\n",
       ".storage_from_file()\n",
       ".storage_from_micheline()\n",
       ".storage_from_michelson()\n",
       ".to_file()\n",
       ".to_micheline()\n",
       ".to_michelson()\n",
       ".using()"
      ]
     },
     "execution_count": 18,
     "metadata": {},
     "output_type": "execute_result"
    }
   ],
   "source": [
    "first_contract"
   ]
  },
  {
   "cell_type": "code",
   "execution_count": 19,
   "id": "b08824b9",
   "metadata": {
    "scrolled": false
   },
   "outputs": [],
   "source": [
    "origination = ptz.origination(first_contract.script()).autofill().sign().inject(min_confirmations=1)"
   ]
  },
  {
   "cell_type": "code",
   "execution_count": 20,
   "id": "0c6efb0a",
   "metadata": {},
   "outputs": [
    {
     "data": {
      "text/plain": [
       "{'protocol': 'PtNairobiyssHuh87hEhfVBGCVrK3WnS8Z2FT4ymB5tAa4r1nQf',\n",
       " 'chain_id': 'NetXNQiqPWDBoxN',\n",
       " 'hash': 'onsSDGuxnbSmcsFhKLoq4faNDKiMSKdZL7Hw4vuwFGvUPBPLWbF',\n",
       " 'branch': 'BL8oA6wfSEHsbBi5uuGcpcjdphAcxMaTUUeJJbLckhZCGH7Fafz',\n",
       " 'contents': [{'kind': 'origination',\n",
       "   'source': 'tz1VSUr8wwNhLAzempoch5d6hLRiTh8Cjcjb',\n",
       "   'fee': '342',\n",
       "   'counter': '15',\n",
       "   'gas_limit': '679',\n",
       "   'storage_limit': '395',\n",
       "   'balance': '0',\n",
       "   'script': {'code': [{'prim': 'parameter', 'args': [{'prim': 'unit'}]},\n",
       "     {'prim': 'storage', 'args': [{'prim': 'unit'}]},\n",
       "     {'prim': 'code',\n",
       "      'args': [[{'prim': 'CDR'},\n",
       "        {'prim': 'NIL', 'args': [{'prim': 'operation'}]},\n",
       "        {'prim': 'PAIR'}]]}],\n",
       "    'storage': {'prim': 'Unit'}},\n",
       "   'metadata': {'balance_updates': [{'kind': 'contract',\n",
       "      'contract': 'tz1VSUr8wwNhLAzempoch5d6hLRiTh8Cjcjb',\n",
       "      'change': '-342',\n",
       "      'origin': 'block'},\n",
       "     {'kind': 'accumulator',\n",
       "      'category': 'block fees',\n",
       "      'change': '342',\n",
       "      'origin': 'block'}],\n",
       "    'operation_result': {'status': 'applied',\n",
       "     'balance_updates': [{'kind': 'contract',\n",
       "       'contract': 'tz1VSUr8wwNhLAzempoch5d6hLRiTh8Cjcjb',\n",
       "       'change': '-9500',\n",
       "       'origin': 'block'},\n",
       "      {'kind': 'burned',\n",
       "       'category': 'storage fees',\n",
       "       'change': '9500',\n",
       "       'origin': 'block'},\n",
       "      {'kind': 'contract',\n",
       "       'contract': 'tz1VSUr8wwNhLAzempoch5d6hLRiTh8Cjcjb',\n",
       "       'change': '-64250',\n",
       "       'origin': 'block'},\n",
       "      {'kind': 'burned',\n",
       "       'category': 'storage fees',\n",
       "       'change': '64250',\n",
       "       'origin': 'block'}],\n",
       "     'originated_contracts': ['KT1PtkWbWAEpjD2swLzkSKpJpHpuDafem6CK'],\n",
       "     'consumed_milligas': '578170',\n",
       "     'storage_size': '38',\n",
       "     'paid_storage_size_diff': '38'}}}],\n",
       " 'signature': 'sigfzcuT1vJjsj95HC4D1ETKs6h3v5S3BQQKF8C12WEex38YhreZdWDnScFsN6p5XsyDBFREMHMx9ZgwQShpxKmSiWczBCzJ'}"
      ]
     },
     "execution_count": 20,
     "metadata": {},
     "output_type": "execute_result"
    }
   ],
   "source": [
    "origination"
   ]
  },
  {
   "cell_type": "markdown",
   "id": "5270d56e",
   "metadata": {},
   "source": [
    "Again, lots of information here. What we need, though, is pretty simple: to interact with our contract, we want to get the address to which it was originated. You can either copy it from all of this, or get it with the following expression:"
   ]
  },
  {
   "cell_type": "code",
   "execution_count": 21,
   "id": "ff1cbe37",
   "metadata": {},
   "outputs": [],
   "source": [
    "contract_address = origination['contents'][0]['metadata']['operation_result']['originated_contracts'][0]"
   ]
  },
  {
   "cell_type": "code",
   "execution_count": 22,
   "id": "b4571f65",
   "metadata": {},
   "outputs": [
    {
     "data": {
      "text/plain": [
       "'KT1PtkWbWAEpjD2swLzkSKpJpHpuDafem6CK'"
      ]
     },
     "execution_count": 22,
     "metadata": {},
     "output_type": "execute_result"
    }
   ],
   "source": [
    "contract_address"
   ]
  },
  {
   "cell_type": "markdown",
   "id": "b34180be",
   "metadata": {},
   "source": [
    "Now that we have an address, let's get the on-chain contract object:"
   ]
  },
  {
   "cell_type": "code",
   "execution_count": 23,
   "id": "1e3d6680",
   "metadata": {},
   "outputs": [],
   "source": [
    "contract = ptz.contract(contract_address)"
   ]
  },
  {
   "cell_type": "markdown",
   "id": "17233cff",
   "metadata": {},
   "source": [
    "We can access various properties from the contract, such as its storage:"
   ]
  },
  {
   "cell_type": "code",
   "execution_count": 24,
   "id": "4b2dc790",
   "metadata": {},
   "outputs": [
    {
     "data": {
      "text/plain": [
       "Unit"
      ]
     },
     "execution_count": 24,
     "metadata": {},
     "output_type": "execute_result"
    }
   ],
   "source": [
    "contract.storage()"
   ]
  },
  {
   "cell_type": "markdown",
   "id": "4804bd0b",
   "metadata": {},
   "source": [
    "Are we walking in circle? No, this contract is a different one from the `first_contract` we made before. As we got it from a `PyTezosClient`, we have an address for it (you can compare `first_contract.address` and `contract.address`). Moreover, if we try to call its entrypoint, the transactions is going to get signed automatically by `alice`.\n",
    "\n",
    "Let's use the documentation one more time to see what parameters are expected:"
   ]
  },
  {
   "cell_type": "code",
   "execution_count": 25,
   "id": "dbfa93bd",
   "metadata": {},
   "outputs": [
    {
     "data": {
      "text/plain": [
       "<pytezos.contract.entrypoint.ContractEntrypoint object at 0x7f11d965ed90>\n",
       "\n",
       "Properties\n",
       ".key\t\ttz1VSUr8wwNhLAzempoch5d6hLRiTh8Cjcjb\n",
       ".shell\t\t['http://localhost:20000']\n",
       ".address\tKT1PtkWbWAEpjD2swLzkSKpJpHpuDafem6CK\n",
       ".block_id\thead\n",
       ".entrypoint\tdefault\n",
       "\n",
       "Builtin\n",
       "(*args, **kwargs)\t# build transaction parameters (see typedef)\n",
       "\n",
       "Typedef\n",
       "$default:\n",
       "\tunit\n",
       "\n",
       "$unit:\n",
       "\tNone || Unit /* `from pytezos import Unit` for resolving None ambiguity */\n",
       "\n",
       "\n",
       "Helpers\n",
       ".decode()\n",
       ".encode()"
      ]
     },
     "execution_count": 25,
     "metadata": {},
     "output_type": "execute_result"
    }
   ],
   "source": [
    "contract.default"
   ]
  },
  {
   "cell_type": "markdown",
   "id": "90b78cc2",
   "metadata": {},
   "source": [
    "Let's send a transaction calling this entrypoint:"
   ]
  },
  {
   "cell_type": "code",
   "execution_count": 26,
   "id": "0c97dec8",
   "metadata": {},
   "outputs": [
    {
     "data": {
      "text/plain": [
       "[{'kind': 'transaction',\n",
       "  'source': 'tz1VSUr8wwNhLAzempoch5d6hLRiTh8Cjcjb',\n",
       "  'fee': '395',\n",
       "  'counter': '16',\n",
       "  'gas_limit': '1378',\n",
       "  'storage_limit': '100',\n",
       "  'amount': '0',\n",
       "  'destination': 'KT1PtkWbWAEpjD2swLzkSKpJpHpuDafem6CK'}]"
      ]
     },
     "execution_count": 26,
     "metadata": {},
     "output_type": "execute_result"
    }
   ],
   "source": [
    "op = contract.default().send(min_confirmations=1)\n",
    "op.contents"
   ]
  },
  {
   "cell_type": "markdown",
   "id": "26cd7f22",
   "metadata": {},
   "source": [
    "Of course, the storage did not change, just as we wrote it:"
   ]
  },
  {
   "cell_type": "code",
   "execution_count": 27,
   "id": "52d49251",
   "metadata": {},
   "outputs": [
    {
     "data": {
      "text/plain": [
       "Unit"
      ]
     },
     "execution_count": 27,
     "metadata": {},
     "output_type": "execute_result"
    }
   ],
   "source": [
    "contract.storage()"
   ]
  },
  {
   "cell_type": "markdown",
   "id": "d5e29688",
   "metadata": {},
   "source": [
    "# A better example"
   ]
  },
  {
   "cell_type": "markdown",
   "id": "a9bfb2e7",
   "metadata": {},
   "source": [
    "To conclude this notebook, let's write a contract that stores an `int`, and offers two entrypoints to either increment or decrement this `int`."
   ]
  },
  {
   "cell_type": "code",
   "execution_count": 28,
   "id": "09cd19c9",
   "metadata": {},
   "outputs": [
    {
     "name": "stdout",
     "output_type": "stream",
     "text": [
      "Overwriting counter.mligo\n"
     ]
    }
   ],
   "source": [
    "%%writefile counter.mligo\n",
    "\n",
    "type storage = int\n",
    "\n",
    "[@entry]\n",
    "let increment (_ : unit) (store : storage) : operation list * storage =\n",
    "    ([], store + 1)\n",
    "    \n",
    "[@entry]\n",
    "let decrement (_ : unit) (store : storage) : operation list * storage =\n",
    "    ([], store - 1)"
   ]
  },
  {
   "cell_type": "code",
   "execution_count": 29,
   "id": "9e419984",
   "metadata": {},
   "outputs": [],
   "source": [
    "!ligo compile contract counter.mligo > counter.tz"
   ]
  },
  {
   "cell_type": "code",
   "execution_count": 30,
   "id": "1f0bcaf4",
   "metadata": {},
   "outputs": [],
   "source": [
    "counter_contract = ContractInterface.from_file(\"counter.tz\")"
   ]
  },
  {
   "cell_type": "code",
   "execution_count": 31,
   "id": "332e54c8",
   "metadata": {},
   "outputs": [],
   "source": [
    "origination = ptz.origination(counter_contract.script()).autofill().sign().inject(min_confirmations=1)"
   ]
  },
  {
   "cell_type": "code",
   "execution_count": 32,
   "id": "c87f2c0e",
   "metadata": {},
   "outputs": [],
   "source": [
    "contract_address = origination['contents'][0]['metadata']['operation_result']['originated_contracts'][0]"
   ]
  },
  {
   "cell_type": "code",
   "execution_count": 33,
   "id": "415ebcee",
   "metadata": {},
   "outputs": [],
   "source": [
    "counter_contract = ptz.contract(contract_address)"
   ]
  },
  {
   "cell_type": "code",
   "execution_count": 34,
   "id": "f65083a0",
   "metadata": {},
   "outputs": [
    {
     "data": {
      "text/plain": [
       "<pytezos.jupyter.ContractInterface object at 0x7f11d9c43d10>\n",
       "\n",
       "Properties\n",
       ".key\t\ttz1VSUr8wwNhLAzempoch5d6hLRiTh8Cjcjb\n",
       ".shell\t\t['http://localhost:20000']\n",
       ".address\tKT1TbLGRc3Fz9ihonAonRQ2P5phedNfPdbP2\n",
       ".block_id\thead\n",
       ".storage\t# access storage data at block `block_id`\n",
       ".parameter\t# root entrypoint\n",
       "\n",
       "Entrypoints\n",
       ".decrement()\n",
       ".increment()\n",
       ".default()\n",
       "\n",
       "Views\n",
       "\n",
       "Helpers\n",
       ".big_map_get()\n",
       ".create_from()\n",
       ".from_context()\n",
       ".from_file()\n",
       ".from_micheline()\n",
       ".from_michelson()\n",
       ".from_url()\n",
       ".metadata()\n",
       ".metadata_url()\n",
       ".operation_result()\n",
       ".originate()\n",
       ".program()\n",
       ".script()\n",
       ".storage_from_file()\n",
       ".storage_from_micheline()\n",
       ".storage_from_michelson()\n",
       ".to_file()\n",
       ".to_micheline()\n",
       ".to_michelson()\n",
       ".using()"
      ]
     },
     "execution_count": 34,
     "metadata": {},
     "output_type": "execute_result"
    }
   ],
   "source": [
    "counter_contract"
   ]
  },
  {
   "cell_type": "markdown",
   "id": "c55bb5b5",
   "metadata": {},
   "source": [
    "The initial storage has automatically be set to 0. "
   ]
  },
  {
   "cell_type": "code",
   "execution_count": 35,
   "id": "04bec045",
   "metadata": {},
   "outputs": [
    {
     "data": {
      "text/plain": [
       "0"
      ]
     },
     "execution_count": 35,
     "metadata": {},
     "output_type": "execute_result"
    }
   ],
   "source": [
    "counter_contract.storage()"
   ]
  },
  {
   "cell_type": "code",
   "execution_count": 36,
   "id": "41963c7f",
   "metadata": {},
   "outputs": [],
   "source": [
    "op1 = counter_contract.increment().send(min_confirmations=1)\n",
    "op2 = counter_contract.increment().send(min_confirmations=1)"
   ]
  },
  {
   "cell_type": "code",
   "execution_count": 37,
   "id": "ab4791c0",
   "metadata": {},
   "outputs": [
    {
     "data": {
      "text/plain": [
       "2"
      ]
     },
     "execution_count": 37,
     "metadata": {},
     "output_type": "execute_result"
    }
   ],
   "source": [
    "counter_contract.storage()"
   ]
  },
  {
   "cell_type": "markdown",
   "id": "14d5af77",
   "metadata": {},
   "source": [
    "The contract storage has correctly been updated."
   ]
  },
  {
   "cell_type": "markdown",
   "id": "9a951125",
   "metadata": {},
   "source": [
    "# To go further…"
   ]
  },
  {
   "cell_type": "markdown",
   "id": "0c97f0d1",
   "metadata": {},
   "source": [
    "* You can find an introduction to LIGO on the official page: https://ligolang.org/docs/intro/introduction?lang=cameligo . In this series of notebooks, we'll explain the concepts we need, but you should refer to this official website to learn more about the language.\n",
    "* Interact with `counter_contract` without waiting for confirmations and immediately get the value from the storage. What can you observe?\n",
    "* Using `from pytezos import Key`, generate a new address and the corresponding PyTezos client. You will need to send it money from `alice`, and post a `new_ptz.reveal().autofill().sign().inject()` before you can use it ([more information about reveal operations](https://tezos.stackexchange.com/questions/786/what-is-the-adequate-fee-for-a-reveal-operation)).\n",
    "* Modify the counter contract to only accept increments that come from `alice` and originate it again. You can make the contract fail using the `failwith` instructions. Test your contract using the other addresses you generated."
   ]
  }
 ],
 "metadata": {
  "kernelspec": {
   "display_name": "Python 3 (ipykernel)",
   "language": "python",
   "name": "python3"
  },
  "language_info": {
   "codemirror_mode": {
    "name": "ipython",
    "version": 3
   },
   "file_extension": ".py",
   "mimetype": "text/x-python",
   "name": "python",
   "nbconvert_exporter": "python",
   "pygments_lexer": "ipython3",
   "version": "3.11.4"
  }
 },
 "nbformat": 4,
 "nbformat_minor": 5
}
