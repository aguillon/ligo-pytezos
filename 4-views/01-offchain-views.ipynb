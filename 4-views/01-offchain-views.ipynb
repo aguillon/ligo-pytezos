{
 "cells": [
  {
   "cell_type": "markdown",
   "id": "01db778b",
   "metadata": {},
   "source": [
    "# Using TZIP-16 and off-chain views with PyTezos"
   ]
  },
  {
   "cell_type": "markdown",
   "id": "6016d525",
   "metadata": {},
   "source": [
    "In this notebook, we're going to improve the first example of contract that we wrote (TODO: first chapter is not written yet ☺) and add TZIP-16 style metadata to the storage. We're going to use these metadata to store an _off-chain view_, which is a short piece of Michelson code that can be called to inspect the contract's storage."
   ]
  },
  {
   "cell_type": "code",
   "execution_count": 1,
   "id": "b2c85d67",
   "metadata": {},
   "outputs": [],
   "source": [
    "import pytezos as tz\n",
    "from pytezos.contract.interface import ContractInterface\n",
    "from pytezos.contract.result import OperationResult"
   ]
  },
  {
   "cell_type": "markdown",
   "id": "5dfe795b",
   "metadata": {},
   "source": [
    "Let's first define a PyTezos client. As usual, you can change the following RPC to point to e.g., `https://ghostnet.tezos.marigold.dev` to use Ghostnet instead."
   ]
  },
  {
   "cell_type": "code",
   "execution_count": 2,
   "id": "0422cc5e",
   "metadata": {},
   "outputs": [],
   "source": [
    "TEZOS_RPC=\"http://localhost:20000\"\n",
    "\n",
    "alice = tz.Key.from_encoded_key(\"edsk3QoqBuvdamxouPhin7swCvkQNgq4jP5KZPbwWNnwdZpSpJiEbq\")\n",
    "ptz = tz.pytezos.using(TEZOS_RPC, alice)"
   ]
  },
  {
   "cell_type": "code",
   "execution_count": 3,
   "id": "7b52fd64",
   "metadata": {},
   "outputs": [
    {
     "data": {
      "text/plain": [
       "Decimal('1999846.298958')"
      ]
     },
     "execution_count": 3,
     "metadata": {},
     "output_type": "execute_result"
    }
   ],
   "source": [
    "ptz.balance()"
   ]
  },
  {
   "cell_type": "markdown",
   "id": "4097504e",
   "metadata": {},
   "source": [
    "## A simple example of contract"
   ]
  },
  {
   "cell_type": "markdown",
   "id": "c88f3fa4",
   "metadata": {},
   "source": [
    "As in the first chapter, we define a simple contract that stores, in a big map, one integer counter per address. These counters can be incremented or decremented by calling the corresponding entrypoints.\n",
    "\n",
    "We save this code to a file called `test.mligo`."
   ]
  },
  {
   "cell_type": "code",
   "execution_count": 4,
   "id": "f837d16a",
   "metadata": {},
   "outputs": [
    {
     "name": "stdout",
     "output_type": "stream",
     "text": [
      "Overwriting test.mligo\n"
     ]
    }
   ],
   "source": [
    "%%writefile test.mligo\n",
    "\n",
    "type storage = {\n",
    "  counters: (address, int) big_map;\n",
    "  metadata: (string, bytes) big_map;\n",
    "}\n",
    "\n",
    "type action =\n",
    "  | Increment of address\n",
    "  | Decrement of address\n",
    "\n",
    "let update_with (i: int) (address: address) (storage: storage) =\n",
    "  match Big_map.find_opt address storage.counters with\n",
    "    | None -> \n",
    "      { storage with counters = Big_map.add address i storage.counters }\n",
    "    | Some j -> \n",
    "      { storage with counters = Big_map.add address (i+j) storage.counters }\n",
    "\n",
    "let main (action, storage): operation list * storage =\n",
    "  match action with\n",
    "    | Increment address ->\n",
    "      let updated_storage = update_with 1 address storage in\n",
    "      ([], updated_storage)\n",
    "    | Decrement address ->\n",
    "      let updated_storage = update_with (-1) address storage in\n",
    "      ([], updated_storage)\n"
   ]
  },
  {
   "cell_type": "markdown",
   "id": "0a474795",
   "metadata": {},
   "source": [
    "We added a `metadata` field to the storage, which is a big_map with `string` keys and `bytes` values. Bytes are used to circumvent the limitations of Michelson strings."
   ]
  },
  {
   "cell_type": "markdown",
   "id": "de9bbb52",
   "metadata": {},
   "source": [
    "If we call the LIGO compiler, we get the following Michelson code:"
   ]
  },
  {
   "cell_type": "code",
   "execution_count": 5,
   "id": "b8a9034d",
   "metadata": {},
   "outputs": [
    {
     "name": "stdout",
     "output_type": "stream",
     "text": [
      "{ parameter (or (address %decrement) (address %increment)) ;\r\n",
      "  storage (pair (big_map %counters address int) (big_map %metadata string bytes)) ;\r\n",
      "  code { LAMBDA\r\n",
      "           (pair int address (big_map address int) (big_map string bytes))\r\n",
      "           (pair (big_map address int) (big_map string bytes))\r\n",
      "           { UNPAIR 3 ;\r\n",
      "             DUP 3 ;\r\n",
      "             CAR ;\r\n",
      "             DUP 3 ;\r\n",
      "             GET ;\r\n",
      "             IF_NONE\r\n",
      "               { DUP 3 ;\r\n",
      "                 DIG 3 ;\r\n",
      "                 CAR ;\r\n",
      "                 DIG 2 ;\r\n",
      "                 DIG 3 ;\r\n",
      "                 SWAP ;\r\n",
      "                 SOME ;\r\n",
      "                 SWAP ;\r\n",
      "                 UPDATE ;\r\n",
      "                 UPDATE 1 }\r\n",
      "               { DUP 4 ;\r\n",
      "                 DIG 4 ;\r\n",
      "                 CAR ;\r\n",
      "                 DIG 2 ;\r\n",
      "                 DIG 3 ;\r\n",
      "                 ADD ;\r\n",
      "                 DIG 3 ;\r\n",
      "                 SWAP ;\r\n",
      "                 SOME ;\r\n",
      "                 SWAP ;\r\n",
      "                 UPDATE ;\r\n",
      "                 UPDATE 1 } } ;\r\n",
      "         SWAP ;\r\n",
      "         UNPAIR ;\r\n",
      "         IF_LEFT { PUSH int -1 ; PAIR 3 ; EXEC } { PUSH int 1 ; PAIR 3 ; EXEC } ;\r\n",
      "         NIL operation ;\r\n",
      "         PAIR } }\r\n",
      "\r\n"
     ]
    }
   ],
   "source": [
    "! ligo compile contract test.mligo"
   ]
  },
  {
   "cell_type": "markdown",
   "id": "05b16775",
   "metadata": {},
   "source": [
    "## Writing an off-chain view"
   ]
  },
  {
   "cell_type": "markdown",
   "id": "75f06bd5",
   "metadata": {},
   "source": [
    "The previous contract allocates storage (on-chain) for the `counters` big map, where it has all the information it needs to operate. However, big maps are a bit hard to inspect, as they don't store the keys to the values but only a hash thereof. Inspecting the contract storage without an indexer (such as TzKt API) is thus very hard."
   ]
  },
  {
   "cell_type": "markdown",
   "id": "bee60ecd",
   "metadata": {},
   "source": [
    "_Views_ are short functions that can be added to a smart contract to access some parts of the storage, or to check some conditions based on a few computations. They can be called by other contracts _on-chain_ or through Tezos RPC nodes, depending on what view the RPC node has of the contract."
   ]
  },
  {
   "cell_type": "markdown",
   "id": "9f3f22bb",
   "metadata": {},
   "source": [
    "Let's imagine that you're writing a trading application on-chain, such as a DEX. The price of a token at a given block is defined by on-chain information (such as buy and sell orders for an orderbook, or the state of the liquidity pool for a CFMM DEX). However, if you want to put a nice page for analytics that shows the prices on your DEX, you need to inspect the state of the contract through the RPC, compute the price and show it on the page. Views typically allow to write this kind of code, that focus on a part of the contract's storage only."
   ]
  },
  {
   "cell_type": "markdown",
   "id": "07e6b816",
   "metadata": {},
   "source": [
    "In our case, we can write a view that checks what the value of a counter is, for a given address. The view only reads from the big map, it doesn't change it. Let's append the following view to our file."
   ]
  },
  {
   "cell_type": "code",
   "execution_count": 6,
   "id": "2b23d320",
   "metadata": {},
   "outputs": [
    {
     "name": "stdout",
     "output_type": "stream",
     "text": [
      "Appending to test.mligo\n"
     ]
    }
   ],
   "source": [
    "%%writefile -a test.mligo\n",
    "\n",
    "let get_storage ((address, storage): address * storage): int option =\n",
    "  Big_map.find_opt address storage.counters"
   ]
  },
  {
   "cell_type": "markdown",
   "id": "44e3ffd5",
   "metadata": {},
   "source": [
    "If we compile the contract again, we can see that the compiler produces the same code as before: the `get_storage` view hasn't been added to the contract at all!"
   ]
  },
  {
   "cell_type": "code",
   "execution_count": 7,
   "id": "04f0ce77",
   "metadata": {},
   "outputs": [
    {
     "name": "stdout",
     "output_type": "stream",
     "text": [
      "{ parameter (or (address %decrement) (address %increment)) ;\r\n",
      "  storage (pair (big_map %counters address int) (big_map %metadata string bytes)) ;\r\n",
      "  code { LAMBDA\r\n",
      "           (pair int address (big_map address int) (big_map string bytes))\r\n",
      "           (pair (big_map address int) (big_map string bytes))\r\n",
      "           { UNPAIR 3 ;\r\n",
      "             DUP 3 ;\r\n",
      "             CAR ;\r\n",
      "             DUP 3 ;\r\n",
      "             GET ;\r\n",
      "             IF_NONE\r\n",
      "               { DUP 3 ;\r\n",
      "                 DIG 3 ;\r\n",
      "                 CAR ;\r\n",
      "                 DIG 2 ;\r\n",
      "                 DIG 3 ;\r\n",
      "                 SWAP ;\r\n",
      "                 SOME ;\r\n",
      "                 SWAP ;\r\n",
      "                 UPDATE ;\r\n",
      "                 UPDATE 1 }\r\n",
      "               { DUP 4 ;\r\n",
      "                 DIG 4 ;\r\n",
      "                 CAR ;\r\n",
      "                 DIG 2 ;\r\n",
      "                 DIG 3 ;\r\n",
      "                 ADD ;\r\n",
      "                 DIG 3 ;\r\n",
      "                 SWAP ;\r\n",
      "                 SOME ;\r\n",
      "                 SWAP ;\r\n",
      "                 UPDATE ;\r\n",
      "                 UPDATE 1 } } ;\r\n",
      "         SWAP ;\r\n",
      "         UNPAIR ;\r\n",
      "         IF_LEFT { PUSH int -1 ; PAIR 3 ; EXEC } { PUSH int 1 ; PAIR 3 ; EXEC } ;\r\n",
      "         NIL operation ;\r\n",
      "         PAIR } }\r\n",
      "\r\n"
     ]
    }
   ],
   "source": [
    "! ligo compile contract test.mligo"
   ]
  },
  {
   "cell_type": "markdown",
   "id": "fd8575d7",
   "metadata": {},
   "source": [
    "As it does not change the code produced, there's no need to add it to the same file. However, doing so is still often a good idea for two reasons:\n",
    "* the code of the view depends on the storage, and even expresses some basic property about it (e.g., how price are computed or what a counter is). It explains the rest of the code as well;\n",
    "* it can still be used in tests, through a library such as [Breathalyzer](https://github.com/marigold-dev/breathalyzer)."
   ]
  },
  {
   "cell_type": "markdown",
   "id": "3643b57e",
   "metadata": {},
   "source": [
    "Still, this view is not part of the contract's code and is not required to be deployed on-chain. It cannot be called through a transaction, only through a simulation, ran by a RPC node. For these reasons, this type of views are called _off-chain_."
   ]
  },
  {
   "cell_type": "markdown",
   "id": "c5d3e1aa",
   "metadata": {},
   "source": [
    "## Compiling and storing the view"
   ]
  },
  {
   "cell_type": "markdown",
   "id": "ab869a1b",
   "metadata": {},
   "source": [
    "Off-chain views are defined by the [TZIP-16](https://tzip.tezosagora.org/proposal/tzip-16/), which describes the metadata of a contract. Such metadata is stored as a JSON object with a few fields (some mandatory, some optional), which can be accessed through a link, itself stored in a big map inside the contract's storage.\n",
    "\n",
    "However, this link can itself point to the same big map, by using the `tezos-storage:` URL prefix!"
   ]
  },
  {
   "cell_type": "markdown",
   "id": "fb7d2d83",
   "metadata": {},
   "source": [
    "In the following, we're going to show how to compile the view as a JSON expression and deploy it with the contract."
   ]
  },
  {
   "cell_type": "code",
   "execution_count": 8,
   "id": "2c5bd555",
   "metadata": {},
   "outputs": [],
   "source": [
    "view_code = !ligo compile expression cameligo get_storage --init-file main.mligo --michelson-format json"
   ]
  },
  {
   "cell_type": "code",
   "execution_count": 9,
   "id": "684d36aa",
   "metadata": {},
   "outputs": [],
   "source": [
    "import json\n",
    "view_code = json.loads(view_code.spstr)   # view_code.spstr is just getting the output of the compiler"
   ]
  },
  {
   "cell_type": "code",
   "execution_count": 10,
   "id": "fbc5f79a",
   "metadata": {},
   "outputs": [
    {
     "data": {
      "text/plain": [
       "[{'prim': 'UNPAIR'},\n",
       " {'prim': 'SWAP'},\n",
       " {'prim': 'CAR'},\n",
       " {'prim': 'SWAP'},\n",
       " {'prim': 'GET'}]"
      ]
     },
     "execution_count": 10,
     "metadata": {},
     "output_type": "execute_result"
    }
   ],
   "source": [
    "view_code"
   ]
  },
  {
   "cell_type": "markdown",
   "id": "3f78b403",
   "metadata": {},
   "source": [
    "Two things to quickly note here:\n",
    "* as the code of the view is really short, so is the Michelson code produced by the compiler;\n",
    "* the code is in [JSON-seralized Micheline](https://tezos.gitlab.io/shell/micheline.html) format instead of the usual Michelson."
   ]
  },
  {
   "cell_type": "markdown",
   "id": "b81f61d8",
   "metadata": {},
   "source": [
    "Views serialization follows a specific format as well. Writing the types can sometimes be tricky, but is required to make sure that the RPC nodes and libraries such as PyTezos can correctly communicate."
   ]
  },
  {
   "cell_type": "code",
   "execution_count": 11,
   "id": "3a92e393",
   "metadata": {},
   "outputs": [],
   "source": [
    "views = [\n",
    "    {\n",
    "        \"name\": \"get_storage\",\n",
    "        \"parameter\": {\n",
    "            \"prim\": \"address\"\n",
    "        },\n",
    "        \"returnType\": {\n",
    "            \"prim\": \"option\", \n",
    "            \"args\": [ { \"prim\": \"int\" } ]\n",
    "        },\n",
    "        \"code\": view_code\n",
    "    }\n",
    "]"
   ]
  },
  {
   "cell_type": "markdown",
   "id": "a6229146",
   "metadata": {},
   "source": [
    "Finally, the full metadata JSON can be defined as such. Follow the link towards TZIP-16 for more information about the available implementations for views."
   ]
  },
  {
   "cell_type": "code",
   "execution_count": 12,
   "id": "cda3d683",
   "metadata": {},
   "outputs": [],
   "source": [
    "tzip16_metadata =  {\n",
    "    \"interfaces\": [],\n",
    "    \"views\": [\n",
    "            {\n",
    "                \"name\": view[\"name\"],\n",
    "                \"implementations\": [\n",
    "                    {\n",
    "                        \"michelsonStorageView\": {\n",
    "                            \"parameter\": view[\"parameter\"],\n",
    "                            \"returnType\": view[\"returnType\"],\n",
    "                            \"code\": view[\"code\"],\n",
    "                        }\n",
    "                    }\n",
    "                ],\n",
    "            }\n",
    "            for view in views\n",
    "        ]\n",
    "    }"
   ]
  },
  {
   "cell_type": "markdown",
   "id": "d2c03996",
   "metadata": {},
   "source": [
    "As metadata are stored as bytes, we have to encode them. The `metadata` big map that we are going to store has two entries: the first one simply points towards the second one (as a URI), but other URIs would have been allowed, such as an IPFS or even simple HTTP links."
   ]
  },
  {
   "cell_type": "code",
   "execution_count": 13,
   "id": "685ecf53",
   "metadata": {},
   "outputs": [],
   "source": [
    "metadata = json.dumps(tzip16_metadata).encode(\"utf-8\")\n",
    "storage_metadata = {\n",
    "    \"\": b\"tezos-storage:m\".hex(),\n",
    "    \"m\": metadata,\n",
    "}"
   ]
  },
  {
   "cell_type": "markdown",
   "id": "c1c36c65",
   "metadata": {},
   "source": [
    "We can finally deploy our contract with the initial values for the two big maps:"
   ]
  },
  {
   "cell_type": "code",
   "execution_count": 14,
   "id": "9f0b9291",
   "metadata": {},
   "outputs": [],
   "source": [
    "contract = ContractInterface.from_file(\"./main.tz\").script(\n",
    "    initial_storage=[{}, storage_metadata]\n",
    ")"
   ]
  },
  {
   "cell_type": "code",
   "execution_count": 15,
   "id": "0f71c0b5",
   "metadata": {},
   "outputs": [],
   "source": [
    "blocks = ptz.shell.blocks()\n",
    "opg = ptz.origination(contract, balance=0).fill(ttl=1).sign().send()\n",
    "opg = ptz.wait(opg, min_confirmations=1, prev_hash=ptz.shell.blocks[-2]()[\"hash\"])"
   ]
  },
  {
   "cell_type": "code",
   "execution_count": 16,
   "id": "e69c3e36",
   "metadata": {},
   "outputs": [],
   "source": [
    "opg_result = OperationResult.from_operation_group(opg[0])[0]"
   ]
  },
  {
   "cell_type": "code",
   "execution_count": 17,
   "id": "d87061fd",
   "metadata": {},
   "outputs": [],
   "source": [
    "# To build a ContractInterface object from the freshly deployed one, we need its address\n",
    "contract = ptz.contract(opg_result.originated_contracts[0])"
   ]
  },
  {
   "cell_type": "markdown",
   "id": "e9221ada",
   "metadata": {},
   "source": [
    "Note that PyTezos correctly parses the stored metadata. However, if we access the big map directly, we get bytes."
   ]
  },
  {
   "cell_type": "code",
   "execution_count": 18,
   "id": "8c48873f",
   "metadata": {},
   "outputs": [
    {
     "data": {
      "text/plain": [
       "{'interfaces': [],\n",
       " 'views': [{'name': 'get_storage',\n",
       "   'implementations': [{'michelsonStorageView': {'parameter': {'prim': 'address'},\n",
       "      'returnType': {'prim': 'option', 'args': [{'prim': 'int'}]},\n",
       "      'code': [{'prim': 'UNPAIR'},\n",
       "       {'prim': 'SWAP'},\n",
       "       {'prim': 'CAR'},\n",
       "       {'prim': 'SWAP'},\n",
       "       {'prim': 'GET'}]}}]}]}"
      ]
     },
     "execution_count": 18,
     "metadata": {},
     "output_type": "execute_result"
    }
   ],
   "source": [
    "contract.metadata()"
   ]
  },
  {
   "cell_type": "code",
   "execution_count": 19,
   "id": "9b0a401c",
   "metadata": {},
   "outputs": [
    {
     "data": {
      "text/plain": [
       "[{'bytes': '74657a6f732d73746f726167653a6d'},\n",
       " {'bytes': '7b22696e7465726661636573223a205b5d2c20227669657773223a205b7b226e616d65223a20226765745f73746f72616765222c2022696d706c656d656e746174696f6e73223a205b7b226d696368656c736f6e53746f7261676556696577223a207b22706172616d65746572223a207b227072696d223a202261646472657373227d2c202272657475726e54797065223a207b227072696d223a20226f7074696f6e222c202261726773223a205b7b227072696d223a2022696e74227d5d7d2c2022636f6465223a205b7b227072696d223a2022554e50414952227d2c207b227072696d223a202253574150227d2c207b227072696d223a2022434152227d2c207b227072696d223a202253574150227d2c207b227072696d223a2022474554227d5d7d7d5d7d5d7d'}]"
      ]
     },
     "execution_count": 19,
     "metadata": {},
     "output_type": "execute_result"
    }
   ],
   "source": [
    "metadata_big_map = contract.storage[\"metadata\"]()\n",
    "ptz.shell.head.context.big_maps[metadata_big_map]()"
   ]
  },
  {
   "cell_type": "markdown",
   "id": "d6ca61d8",
   "metadata": {},
   "source": [
    "Finally, you may have noticed that ContractInterface objects have a `views` property. It corresponds to on-chain views, which we explore in a different notebook."
   ]
  },
  {
   "cell_type": "code",
   "execution_count": 20,
   "id": "071ead5f",
   "metadata": {},
   "outputs": [
    {
     "data": {
      "text/plain": [
       "{}"
      ]
     },
     "execution_count": 20,
     "metadata": {},
     "output_type": "execute_result"
    }
   ],
   "source": [
    "contract.views"
   ]
  },
  {
   "cell_type": "markdown",
   "id": "a3a64039",
   "metadata": {},
   "source": [
    "## Calling an off-chain view"
   ]
  },
  {
   "cell_type": "markdown",
   "id": "92e9d188",
   "metadata": {},
   "source": [
    "Off-chain views are rather poorly documented in the Tezos ecosystem, and in PyTezos documentation in particular. Fortunately, the introspective nature of Python and PyTezos still make it somewhat easy to discover these views and call them."
   ]
  },
  {
   "cell_type": "markdown",
   "id": "e5e7bef0",
   "metadata": {},
   "source": [
    "While PyTezos parses the `contract.metadata` property for us, this is not how you should access the views:"
   ]
  },
  {
   "cell_type": "code",
   "execution_count": 21,
   "id": "de6c9c03",
   "metadata": {},
   "outputs": [],
   "source": [
    "offchain_views = contract.metadata()[\"views\"]"
   ]
  },
  {
   "cell_type": "code",
   "execution_count": 22,
   "id": "a82ea7a7",
   "metadata": {},
   "outputs": [
    {
     "data": {
      "text/plain": [
       "[{'name': 'get_storage',\n",
       "  'implementations': [{'michelsonStorageView': {'parameter': {'prim': 'address'},\n",
       "     'returnType': {'prim': 'option', 'args': [{'prim': 'int'}]},\n",
       "     'code': [{'prim': 'UNPAIR'},\n",
       "      {'prim': 'SWAP'},\n",
       "      {'prim': 'CAR'},\n",
       "      {'prim': 'SWAP'},\n",
       "      {'prim': 'GET'}]}}]}]"
      ]
     },
     "execution_count": 22,
     "metadata": {},
     "output_type": "execute_result"
    }
   ],
   "source": [
    "offchain_views"
   ]
  },
  {
   "cell_type": "markdown",
   "id": "d47ce693",
   "metadata": {},
   "source": [
    "Instead, let's use the fact that PyTezos produces a ContractMetadata object with all the fields that we need:"
   ]
  },
  {
   "cell_type": "code",
   "execution_count": 23,
   "id": "b42b7c9f",
   "metadata": {},
   "outputs": [
    {
     "data": {
      "text/plain": [
       "<pytezos.contract.metadata.ContractMetadata object at 0x7febc92bb640>\n",
       "\n",
       "Properties\n",
       ".key\t\ttz1VSUr8wwNhLAzempoch5d6hLRiTh8Cjcjb\n",
       ".shell\t\t['http://localhost:20000']\n",
       ".address\tKT1CUSGvAHXFZzCfNLdCfT1Rpy4uJG9kzjC6\n",
       ".block_id\thead\n",
       "\n",
       "Metadata\n",
       ".name\t\t\n",
       ".description\t\n",
       ".license\t\n",
       ".authors\t\n",
       ".interfaces\t\n",
       ".errors\t\t<0>\n",
       ".views\t\t<1>\n",
       "\n",
       "Storage views\n",
       ".getStorage()"
      ]
     },
     "execution_count": 23,
     "metadata": {},
     "output_type": "execute_result"
    }
   ],
   "source": [
    "contract.metadata"
   ]
  },
  {
   "cell_type": "markdown",
   "id": "4e4a256f",
   "metadata": {},
   "source": [
    "As you can see, we can either explore the types and code of the views like this…"
   ]
  },
  {
   "cell_type": "code",
   "execution_count": 24,
   "id": "a88b76da",
   "metadata": {},
   "outputs": [
    {
     "data": {
      "text/plain": [
       "MichelsonStorageView(parameter={'prim': 'address'}, returnType={'prim': 'option', 'args': [{'prim': 'int'}]}, code=[{'prim': 'UNPAIR'}, {'prim': 'SWAP'}, {'prim': 'CAR'}, {'prim': 'SWAP'}, {'prim': 'GET'}], annotations=None, version=None)"
      ]
     },
     "execution_count": 24,
     "metadata": {},
     "output_type": "execute_result"
    }
   ],
   "source": [
    "v = contract.metadata.views[0]\n",
    "m = v.implementations[0]\n",
    "m.michelsonStorageView"
   ]
  },
  {
   "cell_type": "markdown",
   "id": "c4c4785d",
   "metadata": {},
   "source": [
    "…or directly call a “storage view” with the relevant arguments, which correctly uses the updated contract storage."
   ]
  },
  {
   "cell_type": "code",
   "execution_count": 25,
   "id": "22c1df19",
   "metadata": {},
   "outputs": [],
   "source": [
    "contract.metadata.getStorage(alice.public_key_hash()).storage_view()"
   ]
  },
  {
   "cell_type": "markdown",
   "id": "5a1260fc",
   "metadata": {},
   "source": [
    "As we haven't interacted with our freshly deployed contract yet, the `counters` big map is still empty and we get a `None`. Let's call the entrypoints a bit!"
   ]
  },
  {
   "cell_type": "code",
   "execution_count": 27,
   "id": "198179b7",
   "metadata": {},
   "outputs": [],
   "source": [
    "tx1 = contract.increment(alice.public_key_hash()).as_transaction().autofill().sign().inject(min_confirmations=1)\n",
    "tx2 = contract.increment(alice.public_key_hash()).as_transaction().autofill().sign().inject(min_confirmations=1)"
   ]
  },
  {
   "cell_type": "code",
   "execution_count": 29,
   "id": "5747f0cc",
   "metadata": {},
   "outputs": [
    {
     "data": {
      "text/plain": [
       "2"
      ]
     },
     "execution_count": 29,
     "metadata": {},
     "output_type": "execute_result"
    }
   ],
   "source": [
    "contract.metadata.getStorage(alice.public_key_hash()).storage_view()"
   ]
  }
 ],
 "metadata": {
  "kernelspec": {
   "display_name": "Python 3 (ipykernel)",
   "language": "python",
   "name": "python3"
  },
  "language_info": {
   "codemirror_mode": {
    "name": "ipython",
    "version": 3
   },
   "file_extension": ".py",
   "mimetype": "text/x-python",
   "name": "python",
   "nbconvert_exporter": "python",
   "pygments_lexer": "ipython3",
   "version": "3.10.8"
  }
 },
 "nbformat": 4,
 "nbformat_minor": 5
}
